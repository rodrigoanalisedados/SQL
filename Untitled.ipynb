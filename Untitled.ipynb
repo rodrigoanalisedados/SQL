{
 "cells": [
  {
   "cell_type": "markdown",
   "id": "3d8c72bb",
   "metadata": {},
   "source": [
    "<a id='importar-dataset'></a>\n",
    "# <font color=\"#0080ff\"> Análise exploratória de dados reais do Covid-19 com SQL </font>\n",
    "<hr color=\"#F5F5F5\" size=\"1\">"
   ]
  },
  {
   "cell_type": "markdown",
   "id": "5b1a429b",
   "metadata": {},
   "source": [
    "Este projeto foi desenvolvido durante o curso de SQL da Data Science Academy **[DSA](https://www.datascienceacademy.com.br/)**"
   ]
  },
  {
   "cell_type": "markdown",
   "id": "ce1a6be2",
   "metadata": {},
   "source": [
    "<div class=\"alert alert-info\"> \n",
    "<strong><div style=\"color: rgb(0, 0, 0);\">✨  Resumo do tema:</div></strong> <br>\n",
    "    <div style=\"color: rgb(0, 0, 0);\">→ A pandemia de COVID-19, também conhecida como pandemia de coronavírus, é uma pandemia em curso de doença por coronavírus 2019 <strong>(COVID-19)</strong>, uma doença respiratória causada pelo coronavírus da síndrome respiratória aguda grave 2 <strong>(SARS-CoV-2)</strong>. O vírus tem origem zoonótica e o primeiro caso conhecido da doença remonta a dezembro de 2019 em Wuhan, na China.Em 20 de janeiro de 2020, a Organização Mundial da Saúde (OMS) classificou o surto como Emergência de Saúde Pública de Âmbito Internacional e, em 11 de março de 2020, como pandemia. Em 31 de agosto de 2022, 602 232 199 casos foram confirmados em 192 países e territórios, com 6 490 723 mortes atribuídas à doença, tornando-se uma das pandemias mais mortais da história.\n",
    "    </div>\n",
    "</div>"
   ]
  },
  {
   "cell_type": "markdown",
   "id": "7adb410f",
   "metadata": {},
   "source": [
    "<div class=\"alert alert-warning\"> \n",
    "<strong><div style=\"color: rgb(0, 0, 0);\">💭  Definição do problema:</div></strong> <br>\n",
    "    <div style=\"color: rgb(0, 0, 0);\"> → Um ponto importante que percebemos que existem <strong>faturas que apresentam valores £0,00</strong>. \n",
    "        <div style=\"color: rgb(0, 0, 0);\"> → Isso seria <strong>erro de lançamento de dados?</strong>. 🤔\n",
    "        <div style=\"color: rgb(0, 0, 0);\"> → Ou seriam <strong>doações</strong> que foram realizadas? 🤔\n",
    "</div>"
   ]
  }
 ],
 "metadata": {
  "kernelspec": {
   "display_name": "Python 3 (ipykernel)",
   "language": "python",
   "name": "python3"
  },
  "language_info": {
   "codemirror_mode": {
    "name": "ipython",
    "version": 3
   },
   "file_extension": ".py",
   "mimetype": "text/x-python",
   "name": "python",
   "nbconvert_exporter": "python",
   "pygments_lexer": "ipython3",
   "version": "3.9.12"
  }
 },
 "nbformat": 4,
 "nbformat_minor": 5
}
