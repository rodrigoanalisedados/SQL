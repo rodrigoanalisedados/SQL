{
 "cells": [
  {
   "cell_type": "markdown",
   "id": "b0618ce9",
   "metadata": {},
   "source": [
    "<a id='importar-dataset'></a>\n",
    "# <font color=\"#0080ff\"> Análise exploratória de dados reais do Covid-19 com SQL </font>\n",
    "<hr color=\"#F5F5F5\" size=\"1\">\n",
    "\n",
    "<strong>Utilizando o MySQL Workbench</strong>"
   ]
  },
  {
   "cell_type": "markdown",
   "id": "b925b151",
   "metadata": {},
   "source": [
    "Este projeto foi desenvolvido durante o curso de SQL da Data Science Academy **[DSA](https://www.datascienceacademy.com.br/)**\n",
    "\n",
    "**Por: [Rodrigo Xavier dos Santos](https://www.linkedin.com/in/rodrigo-xavier-dos-santos-75174110a/)**"
   ]
  },
  {
   "cell_type": "markdown",
   "id": "2c07eb67",
   "metadata": {},
   "source": [
    "![title](corona.jpg)"
   ]
  },
  {
   "cell_type": "markdown",
   "id": "35cc3714",
   "metadata": {},
   "source": [
    "<div style=\"display:inline-block;vertical-align:top;\">\n",
    "<h2>Sumário:</h2>\n",
    "<ul>\n",
    "    <li><a href=\"#contexto-projeto\">Sobre o Contexto do Projeto </a></li>\n",
    "    <li><a href=\"#carregando-dados\">Carregando os dados</a></li>\n",
    "     <li><a href=\"#reconhecimento-dados\">Reconhecimento e alteração dos dados</a></li>\n",
    "    <li><a href=\"#analise\">Análise exploratória</a></li>\n",
    "     <li><a href=\"#entrega\">Entrega dos resultados</a></li>\n",
    "</ul>\n",
    "</div>"
   ]
  },
  {
   "cell_type": "markdown",
   "id": "f1759474",
   "metadata": {},
   "source": [
    "<a id='contexto-projeto'></a>\n",
    "## <font color=\"#0080ff\"> Sobre o contexto do projeto</font>\n",
    "<hr color=\"#F5F5F5\" size=\"1\">"
   ]
  },
  {
   "cell_type": "markdown",
   "id": "55faee2c",
   "metadata": {},
   "source": [
    "A pandemia de COVID-19, também conhecida como pandemia de coronavírus, é uma pandemia em curso de doença por coronavírus 2019 <strong>(COVID-19)</strong>, uma doença respiratória causada pelo coronavírus da síndrome respiratória aguda grave 2 <strong>(SARS-CoV-2)</strong>. O vírus tem origem zoonótica e o primeiro caso conhecido da doença remonta a dezembro de 2019 em Wuhan, na China.Em 20 de janeiro de 2020, a Organização Mundial da Saúde (OMS) classificou o surto como Emergência de Saúde Pública de Âmbito Internacional e, em 11 de março de 2020, como pandemia. Em 31 de agosto de 2022, 602 232 199 casos foram confirmados em 192 países e territórios, com 6 490 723 mortes atribuídas à doença, tornando-se uma das pandemias mais mortais da história.\n",
    "\n",
    "<div class=\"alert alert-info\"> \n",
    "<strong><div style=\"color: rgb(0, 0, 0);\">📌 Os principais objetivos na aprendizagem deste projeto: </div></strong> <br>\n",
    "<div style=\"color: rgb(0, 0, 0);\">→ Realizar a exploração e alteração dos dados; </div>\n",
    "<div style=\"color: rgb(0, 0, 0);\">→ Responder a perguntas de negócios; e</div>\n",
    "<div style=\"color: rgb(0, 0, 0);\">→ Criar consultas no SGBD para os stakeholders.</div>\n",
    "</div>"
   ]
  },
  {
   "cell_type": "markdown",
   "id": "4874ecf2",
   "metadata": {},
   "source": [
    "<div class=\"alert alert-warning\"> \n",
    "<strong><div style=\"color: rgb(0, 0, 0);\">A fonte de dados:</div></strong> <br>\n",
    "    <div style=\"color: rgb(0, 0, 0);\"> → A fonte de dados contém vários arquivos, com dados reais de diversos países. Para este estudo de caso, iremos utilizar só dois arquivos, com um período reduzido entre as datas. De <strong>01/01/2020 à 29/06/2021</strong>.\n",
    "\n",
    "A fonte de dados completa e seu dicionário de dados pode ser baixado em **[Our World in Data](https://ourworldindata.org/covid-deaths)**\n",
    "</div>"
   ]
  },
  {
   "cell_type": "markdown",
   "id": "6fddec13",
   "metadata": {},
   "source": [
    "<a id='carregando-dados'></a>\n",
    "## <font color=\"#0080ff\"> 1 - Carregando os dados</font>\n",
    "<hr color=\"#F5F5F5\" size=\"1\">"
   ]
  },
  {
   "cell_type": "markdown",
   "id": "383325c2",
   "metadata": {},
   "source": [
    "<a id='detectar-nulo'></a>\n",
    "### <font color=\"#0080ff\"> 1.1 Carregando os dados via linha de comando no Prompt </font>\n",
    "<hr color=\"#F5F5F5\" size=\"1\">"
   ]
  },
  {
   "cell_type": "raw",
   "id": "d8bddf8b",
   "metadata": {},
   "source": [
    "# Conectando no MySQL via linha de comando\n",
    "\n",
    "# LINUX ou MacOS\n",
    "/usr/local/mysql/bin/mysql --local-infile=1 -u root -p\n",
    "\n",
    "# Windows\n",
    "mysql --local-infile=1 -u root -p\n",
    "\n",
    "# Criando o schema\n",
    "CREATE SCHEMA `cap07` DEFAULT CHARACTER SET utf8 ;\n",
    "\n",
    "# Definindo o previlégio necessário para a carga de dados via linha de comando\n",
    "SET GLOBAL local_infile = true;\n",
    "\n",
    "# Criando a primeira tabela\n",
    "CREATE TABLE cap07.covid_mortes (\n",
    "  `iso_code` text,\n",
    "  `continent` text,\n",
    "  `location` text,\n",
    "  `date` text,\n",
    "  `population` text,\n",
    "  `total_cases` text,\n",
    "  `new_cases` text,\n",
    "  `new_cases_smoothed` text,\n",
    "  `total_deaths` text,\n",
    "  `new_deaths` text,\n",
    "  `new_deaths_smoothed` text,\n",
    "  `total_cases_per_million` text,\n",
    "  `new_cases_per_million` text,\n",
    "  `new_cases_smoothed_per_million` text,\n",
    "  `total_deaths_per_million` text,\n",
    "  `new_deaths_per_million` text,\n",
    "  `new_deaths_smoothed_per_million` text,\n",
    "  `reproduction_rate` text,\n",
    "  `icu_patients` text,\n",
    "  `icu_patients_per_million` text,\n",
    "  `hosp_patients` text,\n",
    "  `hosp_patients_per_million` text,\n",
    "  `weekly_icu_admissions` text,\n",
    "  `weekly_icu_admissions_per_million` text,\n",
    "  `weekly_hosp_admissions` text,\n",
    "  `weekly_hosp_admissions_per_million` text\n",
    ");\n",
    "\n",
    "# Criando a segunda tabela\n",
    "CREATE TABLE cap07.covid_vacinacao (\n",
    "  `iso_code` text,\n",
    "  `continent` text,\n",
    "  `location` text,\n",
    "  `date` text,\n",
    "  `new_tests` text,\n",
    "  `total_tests` text,\n",
    "  `total_tests_per_thousand` text,\n",
    "  `new_tests_per_thousand` text,\n",
    "  `new_tests_smoothed` text,\n",
    "  `new_tests_smoothed_per_thousand` text,\n",
    "  `positive_rate` text,\n",
    "  `tests_per_case` text,\n",
    "  `tests_units` text,\n",
    "  `total_vaccinations` text,\n",
    "  `people_vaccinated` text,\n",
    "  `people_fully_vaccinated` text,\n",
    "  `new_vaccinations` text,\n",
    "  `new_vaccinations_smoothed` text,\n",
    "  `total_vaccinations_per_hundred` text,\n",
    "  `people_vaccinated_per_hundred` text,\n",
    "  `people_fully_vaccinated_per_hundred` text,\n",
    "  `new_vaccinations_smoothed_per_million` text,\n",
    "  `stringency_index` text,\n",
    "  `population_density` text,\n",
    "  `median_age` text,\n",
    "  `aged_65_older` text,\n",
    "  `aged_70_older` text,\n",
    "  `gdp_per_capita` text,\n",
    "  `extreme_poverty` text,\n",
    "  `cardiovasc_death_rate` text,\n",
    "  `diabetes_prevalence` text,\n",
    "  `female_smokers` text,\n",
    "  `male_smokers` text,\n",
    "  `handwashing_facilities` text,\n",
    "  `hospital_beds_per_thousand` text,\n",
    "  `life_expectancy` text,\n",
    "  `human_development_index` text,\n",
    "  `excess_mortality` text\n",
    ");\n",
    "\n",
    "# Carrega os dados\n",
    "LOAD DATA LOCAL INFILE 'C:\\AnaliseDados\\SQL\\cap07\\EstudoCaso1\\covid_mortes.csv' INTO TABLE `cap07`.`covid_mortes` CHARACTER SET UTF8\n",
    "FIELDS TERMINATED BY ',' ENCLOSED BY '\"' LINES TERMINATED BY '\\r\\n' IGNORE 1 LINES;\n",
    "\n",
    "LOAD DATA LOCAL INFILE 'C:\\AnaliseDados\\SQL\\cap07\\EstudoCaso1\\covid_vacinacao.csv' INTO TABLE `cap07`.`covid_vacinacao` CHARACTER SET UTF8\n",
    "FIELDS TERMINATED BY ',' ENCLOSED BY '\"' LINES TERMINATED BY '\\r\\n' IGNORE 1 LINES;"
   ]
  },
  {
   "cell_type": "markdown",
   "id": "9052651f",
   "metadata": {},
   "source": [
    "<div class=\"alert alert-warning\"> \n",
    "<strong><div style=\"color: rgb(0, 0, 0);\">Importante:</div></strong> <br>\n",
    "    <div style=\"color: rgb(0, 0, 0);\">Todas as colunas das tabelas foram criadas com o tipo texto, para evitar erros no Workbench. Porém iremos identificar, e alterar os tipos conforme o dado de cada coluna. </div>\n",
    "</div>"
   ]
  },
  {
   "cell_type": "markdown",
   "id": "49779258",
   "metadata": {},
   "source": [
    "<a id='reconhecimento-dados'></a>\n",
    "## <font color=\"#0080ff\"> 2 - Reconhecimento e alteração dos dados</font>\n",
    "<hr color=\"#F5F5F5\" size=\"1\">"
   ]
  },
  {
   "cell_type": "markdown",
   "id": "ca425221",
   "metadata": {},
   "source": [
    "<a id='detectar-nulo'></a>\n",
    "### <font color=\"#0080ff\"> 2.1 Reconhecimento dos dados </font>\n",
    "<hr color=\"#F5F5F5\" size=\"1\">"
   ]
  },
  {
   "cell_type": "markdown",
   "id": "32f43c4e",
   "metadata": {},
   "source": [
    "<div class=\"alert alert-warning\"> \n",
    "<strong><div style=\"color: rgb(0, 0, 0);\">Importante:</div></strong> <br>\n",
    "    <div style=\"color: rgb(0, 0, 0);\">Os dados em branco na tabela se referem ao período sem registro de morte, comparado ao início da pandemia, ou seja, em cada país, o primeiro registro de morte foi registrado em períodos diferente, conforme o COVID-19 se espalhava pelo mundo. Da mesma forma, os registros referente a vacinação, seguem a mesma lógica. Sendo assim, não foi necessário tratar os registros ausentes.</div>\n",
    "</div>"
   ]
  },
  {
   "cell_type": "markdown",
   "id": "2ab9c6c6",
   "metadata": {},
   "source": [
    "<strong>Consultando a tabela de mortes</strong>\n",
    "\n",
    "SELECT * FROM cap07.covid_mortes;"
   ]
  },
  {
   "cell_type": "markdown",
   "id": "61d1dff5",
   "metadata": {},
   "source": [
    "![title](3.png)"
   ]
  },
  {
   "cell_type": "markdown",
   "id": "fb069600",
   "metadata": {},
   "source": [
    "<strong>Consultando a tabela de vacinação</strong>\n",
    "\n",
    "SELECT * FROM cap07.covid_vacinacao;"
   ]
  },
  {
   "cell_type": "markdown",
   "id": "46257079",
   "metadata": {},
   "source": [
    "![title](2.png)"
   ]
  },
  {
   "cell_type": "markdown",
   "id": "4e81d3ec",
   "metadata": {},
   "source": [
    "<strong>Total de registros</strong>\n",
    "\n",
    "SELECT COUNT(*) FROM cap07.covid_mortes;"
   ]
  },
  {
   "cell_type": "markdown",
   "id": "8c0cd19f",
   "metadata": {},
   "source": [
    "![title](1_1.png)"
   ]
  },
  {
   "cell_type": "raw",
   "id": "0c185198",
   "metadata": {},
   "source": [
    "SELECT COUNT(*) FROM cap07.covid_vacinacao;"
   ]
  },
  {
   "cell_type": "markdown",
   "id": "75d6b2aa",
   "metadata": {},
   "source": [
    "![title](1_1.png)"
   ]
  },
  {
   "cell_type": "markdown",
   "id": "6afe454b",
   "metadata": {},
   "source": [
    "<a id='detectar-nulo'></a>\n",
    "### <font color=\"#0080ff\"> 2.2 Alteração dos dados </font>\n",
    "<hr color=\"#F5F5F5\" size=\"1\">"
   ]
  },
  {
   "cell_type": "markdown",
   "id": "da035d00",
   "metadata": {},
   "source": [
    "<div class=\"alert alert-warning\"> \n",
    "<strong><div style=\"color: rgb(0, 0, 0);\">Importante:</div></strong> <br>\n",
    "    <div style=\"color: rgb(0, 0, 0);\">Como todas as colunas estão no formato texto, necessitamos alterar as colunas de data para o formato correto. Para isso, necessitamos primeiro habilitar a permissão no SGBD e depois alterar com UPDATE.</div>\n",
    "</div>"
   ]
  },
  {
   "cell_type": "raw",
   "id": "256f5962",
   "metadata": {},
   "source": [
    "# Vamos habilitar a permissão no SGBD\n",
    "SET SQL_SAFE_UPDATES = 0;\n",
    "\n",
    "# Vamos alterar a data para o formato adequado na tabela covid_mortes\n",
    "UPDATE cap07.covid_mortes \n",
    "SET date = str_to_date(date,'%d/%m/%y');\n",
    "\n",
    "# Vamos alterar a data para o formato adequado na tabela covid_vacinacao\n",
    "UPDATE cap07.covid_vacinacao \n",
    "SET date = str_to_date(date,'%d/%m/%y');\n",
    "\n",
    "# Vamos desabilitar a permissão no SGBD\n",
    "SET SQL_SAFE_UPDATES = 1;"
   ]
  },
  {
   "cell_type": "markdown",
   "id": "8140329c",
   "metadata": {},
   "source": [
    "<a id='analise'></a>\n",
    "## <font color=\"#0080ff\"> 3 - Análise exploratória</font>\n",
    "<hr color=\"#F5F5F5\" size=\"1\">"
   ]
  },
  {
   "cell_type": "markdown",
   "id": "d135de43",
   "metadata": {},
   "source": [
    "<a id='detectar-nulo'></a>\n",
    "### <font color=\"#0080ff\"> 3.1 Retornando as variáveis mais relevantes para a análise </font>\n",
    "<hr color=\"#F5F5F5\" size=\"1\">"
   ]
  },
  {
   "cell_type": "raw",
   "id": "9021534c",
   "metadata": {},
   "source": [
    "SELECT date,\n",
    "       location,\n",
    "       total_cases,\n",
    "       new_cases,\n",
    "       total_deaths,\n",
    "       population \n",
    "FROM cap07.covid_mortes \n",
    "ORDER BY 2,1;"
   ]
  },
  {
   "cell_type": "markdown",
   "id": "e082b96f",
   "metadata": {},
   "source": [
    "![title](4.png)"
   ]
  },
  {
   "cell_type": "markdown",
   "id": "b1a27175",
   "metadata": {},
   "source": [
    "<a id='descricao-variaveis'></a>\n",
    "#### <font color=\"#000000\"> Descrição das Variáveis mais relevantes</font>\n",
    "<hr color=\"#F5F5F5\" size=\"1\">\n",
    "\n",
    "| Variável | Descrição |\n",
    "| --- | --- |\n",
    "| **Date** | Data do registro. |\n",
    "| **Location** | O país no qual se refere o registro dos dados. |\n",
    "| **Total_cases** | Número total de casos. |\n",
    "| **New_cases** | Número total de novos casos. |\n",
    "| **Total_deaths** | Número total de mortos. |\n",
    "| **Population** | A população do país |"
   ]
  },
  {
   "cell_type": "markdown",
   "id": "658f170b",
   "metadata": {},
   "source": [
    "<a id='detectar-nulo'></a>\n",
    "### <font color=\"#0080ff\"> 3.2 Explorando e respondendo perguntas </font>\n",
    "<hr color=\"#F5F5F5\" size=\"1\">"
   ]
  },
  {
   "cell_type": "markdown",
   "id": "8b81edda",
   "metadata": {},
   "source": [
    "<a id='descricao-variaveis'></a>\n",
    "#### <font color=\"#000000\"> Qual a média de mortos e de novos casos por país?</font>\n",
    "<hr color=\"#F5F5F5\" size=\"1\">"
   ]
  },
  {
   "cell_type": "raw",
   "id": "3c6f39e4",
   "metadata": {},
   "source": [
    "# Análise univariada, analisando uma variável de forma independente\n",
    "\n",
    "SELECT location,\n",
    "       AVG(total_deaths) AS MediaMortos,\n",
    "       AVG(new_cases) AS MediaNovosCasos\n",
    "FROM cap07.covid_mortes \n",
    "GROUP BY location\n",
    "ORDER BY MediaMortos DESC;"
   ]
  },
  {
   "cell_type": "markdown",
   "id": "c2290450",
   "metadata": {},
   "source": [
    "![title](6.png)"
   ]
  },
  {
   "cell_type": "markdown",
   "id": "464ed312",
   "metadata": {},
   "source": [
    "<a id='descricao-variaveis'></a>\n",
    "#### <font color=\"#000000\"> Qual a proporção de mortes em relação ao total de casos no Brasil?</font>\n",
    "<hr color=\"#F5F5F5\" size=\"1\">"
   ]
  },
  {
   "cell_type": "raw",
   "id": "d842c56d",
   "metadata": {},
   "source": [
    "# Análise Mutivariada, analisando uma variável em relação a outra\n",
    "\n",
    "SELECT date,\n",
    "       location, \n",
    "       total_cases,\n",
    "       total_deaths,\n",
    "       (total_deaths / total_cases) * 100 AS PercentualMortes\n",
    "FROM cap07.covid_mortes  \n",
    "WHERE location = \"Brazil\" \n",
    "ORDER BY 2,1;"
   ]
  },
  {
   "cell_type": "markdown",
   "id": "ecb9a09e",
   "metadata": {},
   "source": [
    "![title](7.png)"
   ]
  },
  {
   "cell_type": "markdown",
   "id": "43b149ac",
   "metadata": {},
   "source": [
    "<a id='descricao-variaveis'></a>\n",
    "#### <font color=\"#000000\"> Qual a proporção média entre o total de casos e a população de cada localidade?</font>\n",
    "<hr color=\"#F5F5F5\" size=\"1\">"
   ]
  },
  {
   "cell_type": "raw",
   "id": "2cf6d855",
   "metadata": {},
   "source": [
    "SELECT location,\n",
    "       AVG((total_cases / population) * 100) AS PercentualPopulacao\n",
    "FROM cap07.covid_mortes  \n",
    "GROUP BY location\n",
    "ORDER BY PercentualPopulacao DESC;"
   ]
  },
  {
   "cell_type": "markdown",
   "id": "7f3e0475",
   "metadata": {},
   "source": [
    "![title](8.png)"
   ]
  },
  {
   "cell_type": "markdown",
   "id": "8b4ecdbc",
   "metadata": {},
   "source": [
    "<a id='descricao-variaveis'></a>\n",
    "#### <font color=\"#000000\"> Considerando o maior valor do total de casos, quais os países com a maior taxa de infecção em relação à população?</font>\n",
    "<hr color=\"#F5F5F5\" size=\"1\">"
   ]
  },
  {
   "cell_type": "raw",
   "id": "4247a4db",
   "metadata": {},
   "source": [
    "SELECT location, \n",
    "       MAX(total_cases) AS MaiorContagemInfec,\n",
    "       MAX((total_cases / population)) * 100 AS PercentualPopulacao\n",
    "FROM cap07.covid_mortes \n",
    "WHERE continent IS NOT NULL \n",
    "GROUP BY location, population \n",
    "ORDER BY PercentualPopulacao DESC;"
   ]
  },
  {
   "cell_type": "markdown",
   "id": "ab93afe6",
   "metadata": {},
   "source": [
    "![title](9.png)"
   ]
  },
  {
   "cell_type": "markdown",
   "id": "f43eecb9",
   "metadata": {},
   "source": [
    "<a id='descricao-variaveis'></a>\n",
    "#### <font color=\"#000000\"> Quais os países com o maior número de mortes?</font>\n",
    "<hr color=\"#F5F5F5\" size=\"1\">"
   ]
  },
  {
   "cell_type": "raw",
   "id": "d05e7359",
   "metadata": {},
   "source": [
    "SELECT location, \n",
    "       MAX(total_cases) AS MaiorContagemInfec,\n",
    "       MAX((total_cases / population)) * 100 AS PercentualPopulacao\n",
    "FROM cap07.covid_mortes \n",
    "WHERE continent IS NOT NULL \n",
    "GROUP BY location, population \n",
    "ORDER BY PercentualPopulacao DESC;"
   ]
  },
  {
   "cell_type": "markdown",
   "id": "87ab9c76",
   "metadata": {},
   "source": [
    "![title](10.png)"
   ]
  },
  {
   "cell_type": "markdown",
   "id": "74bcfb46",
   "metadata": {},
   "source": [
    "<a id='descricao-variaveis'></a>\n",
    "#### <font color=\"#000000\"> Qual o percentual de mortes por dia?</font>\n",
    "<hr color=\"#F5F5F5\" size=\"1\">"
   ]
  },
  {
   "cell_type": "raw",
   "id": "1c121141",
   "metadata": {},
   "source": [
    "SELECT date,\n",
    "       SUM(new_cases) as total_cases, \n",
    "       SUM(CAST(new_deaths AS UNSIGNED)) as total_deaths, \n",
    "       COALESCE((SUM(CAST(new_deaths AS UNSIGNED)) / SUM(new_cases)) * 100, 'NA') as PercentMortes\n",
    "FROM cap07.covid_mortes \n",
    "WHERE continent IS NOT NULL \n",
    "GROUP BY date \n",
    "ORDER BY 1,2;"
   ]
  },
  {
   "cell_type": "markdown",
   "id": "69547173",
   "metadata": {},
   "source": [
    "![title](11.png)"
   ]
  },
  {
   "cell_type": "markdown",
   "id": "d4a85959",
   "metadata": {},
   "source": [
    "<a id='descricao-variaveis'></a>\n",
    "#### <font color=\"#000000\"> Qual o número de novos vacinados e a média móvel de novos vacinados ao longo do tempo por localidade?</font>\n",
    "<hr color=\"#F5F5F5\" size=\"1\">"
   ]
  },
  {
   "cell_type": "raw",
   "id": "770aab24",
   "metadata": {},
   "source": [
    "# Considerando apenas os dados da América do Sul\n",
    "\n",
    "SELECT mortos.continent,\n",
    "       mortos.location,\n",
    "       mortos.date,\n",
    "       vacinados.new_vaccinations,\n",
    "       AVG(CAST(vacinados.new_vaccinations AS UNSIGNED)) OVER (PARTITION BY mortos.location ORDER BY mortos.date) as MediaMovelVacinados\n",
    "FROM cap07.covid_mortes mortos \n",
    "JOIN cap07.covid_vacinacao vacinados\n",
    "ON mortos.location = vacinados.location \n",
    "AND mortos.date = vacinados.date\n",
    "WHERE mortos.continent = 'South America'\n",
    "ORDER BY 2,3;"
   ]
  },
  {
   "cell_type": "markdown",
   "id": "dfc39bf0",
   "metadata": {},
   "source": [
    "![title](12.png)"
   ]
  },
  {
   "cell_type": "markdown",
   "id": "d018ffcb",
   "metadata": {},
   "source": [
    "<a id='descricao-variaveis'></a>\n",
    "#### <font color=\"#000000\"> Qual o percentual da população com pelo menos 1 dose da vacina ao longo do tempo?</font>\n",
    "<hr color=\"#F5F5F5\" size=\"1\">"
   ]
  },
  {
   "cell_type": "raw",
   "id": "de188e4e",
   "metadata": {},
   "source": [
    "# Considerando apenas os dados do Brasil\n",
    "# Usando Common Table Expressions (CTE) \n",
    "\n",
    "WITH PopvsVac (continent,location, date, population, new_vaccinations, TotalMovelVacinacao) AS\n",
    "(\n",
    "SELECT mortos.continent,\n",
    "       mortos.location,\n",
    "       mortos.date,\n",
    "       mortos.population,\n",
    "       vacinados.new_vaccinations,\n",
    "       SUM(CAST(vacinados.new_vaccinations AS UNSIGNED)) OVER (PARTITION BY mortos.location ORDER BY mortos.date) AS TotalMovelVacinacao\n",
    "FROM cap07.covid_mortes mortos \n",
    "JOIN cap07.covid_vacinacao vacinados \n",
    "ON mortos.location = vacinados.location \n",
    "AND mortos.date = vacinados.date\n",
    "WHERE mortos.location = 'Brazil'\n",
    ")\n",
    "SELECT *, (TotalMovelVacinacao / population) * 100 AS Percentual_1_Dose FROM PopvsVac;"
   ]
  },
  {
   "cell_type": "markdown",
   "id": "880015a9",
   "metadata": {},
   "source": [
    "![title](13.png)"
   ]
  },
  {
   "cell_type": "markdown",
   "id": "b11e21c1",
   "metadata": {},
   "source": [
    "<a id='descricao-variaveis'></a>\n",
    "#### <font color=\"#000000\"> Durante o mês de Maio/2021 o percentual de vacinados com pelo menos uma dose aumentou ou diminuiu no Brasil?</font>\n",
    "<hr color=\"#F5F5F5\" size=\"1\">"
   ]
  },
  {
   "cell_type": "raw",
   "id": "65ce5aa4",
   "metadata": {},
   "source": [
    "WITH PopvsVac (continent, location, date, population, new_vaccinations, TotalMovelVacinacao) AS\n",
    "(\n",
    "SELECT mortos.continent,\n",
    "       mortos.location,\n",
    "       mortos.date,\n",
    "       mortos.population,\n",
    "       vacinados.new_vaccinations,\n",
    "       SUM(CAST(vacinados.new_vaccinations AS UNSIGNED)) OVER (PARTITION BY mortos.location ORDER BY mortos.date) AS TotalMovelVacinacao\n",
    "FROM cap07.covid_mortes mortos \n",
    "JOIN cap07.covid_vacinacao vacinados \n",
    "ON mortos.location = vacinados.location \n",
    "AND mortos.date = vacinados.date\n",
    "WHERE mortos.location = 'Brazil'\n",
    ")\n",
    "SELECT *, (TotalMovelVacinacao / population) * 100 AS Percentual_1_Dose \n",
    "FROM PopvsVac\n",
    "WHERE DATE_FORMAT(date, \"%M/%Y\") = 'May/2021'\n",
    "AND location = 'Brazil';"
   ]
  },
  {
   "cell_type": "markdown",
   "id": "84f16cbc",
   "metadata": {},
   "source": [
    "![title](14.png)"
   ]
  },
  {
   "cell_type": "markdown",
   "id": "7a876618",
   "metadata": {},
   "source": [
    "<a id='entrega'></a>\n",
    "## <font color=\"#0080ff\"> 4 - Entregando o resultado da análise</font>\n",
    "<hr color=\"#F5F5F5\" size=\"1\">"
   ]
  },
  {
   "cell_type": "markdown",
   "id": "67bdeebe",
   "metadata": {},
   "source": [
    "<div class=\"alert alert-success\"> \n",
    "    <strong><div style=\"color: rgb(0, 0, 0);\"><strong>Importante:</strong></div></strong> <br>\n",
    "     <div style=\"color: rgb(0, 0, 0);\">→ Para entregar o resultado das análises, iremos criar no SGBD algumas VIEWs das consultas que fizemos na análise exploratória. Assim com uma única linha de código será possível fazer algumas consultas mais complexas.\n",
    "    </div>\n",
    "</div>"
   ]
  },
  {
   "cell_type": "raw",
   "id": "ce225bde",
   "metadata": {},
   "source": [
    "CREATE OR REPLACE VIEW cap07.PercentualPopVac AS \n",
    "WITH PopvsVac (continent, location, date, population, new_vaccinations, TotalMovelVacinacao) AS\n",
    "(\n",
    "SELECT mortos.continent,\n",
    "       mortos.location,\n",
    "       mortos.date,\n",
    "       mortos.population,\n",
    "       vacinados.new_vaccinations,\n",
    "       SUM(CAST(vacinados.new_vaccinations AS UNSIGNED)) OVER (PARTITION BY mortos.location ORDER BY mortos.date) AS TotalMovelVacinacao\n",
    "FROM cap07.covid_mortes mortos \n",
    "JOIN cap07.covid_vacinacao vacinados \n",
    "ON mortos.location = vacinados.location \n",
    "AND mortos.date = vacinados.date\n",
    "WHERE mortos.location = 'Brazil'\n",
    ")\n",
    "SELECT *, (TotalMovelVacinacao / population) * 100 AS Percentual_1_Dose \n",
    "FROM PopvsVac\n",
    "WHERE location = 'Brazil';"
   ]
  },
  {
   "cell_type": "markdown",
   "id": "4bb7abd4",
   "metadata": {},
   "source": [
    "<a id='descricao-variaveis'></a>\n",
    "#### <font color=\"#000000\"> Consultando com apenas uma linha de código, após a criação da VIEW</font>\n",
    "<hr color=\"#F5F5F5\" size=\"1\">"
   ]
  },
  {
   "cell_type": "raw",
   "id": "dd4dd049",
   "metadata": {},
   "source": [
    "SELECT * FROM cap07.percentualpopvac;"
   ]
  },
  {
   "cell_type": "markdown",
   "id": "806174fa",
   "metadata": {},
   "source": [
    "![title](15.png)"
   ]
  },
  {
   "cell_type": "markdown",
   "id": "d27dcbeb",
   "metadata": {},
   "source": [
    "<div class=\"alert alert-success\"> \n",
    "<strong><div style=\"color: rgb(0, 0, 0);\">💡 Idéia</div></strong> <br>\n",
    "     <div style=\"color: rgb(0, 0, 0);\">  → Após a criação das consultas no banco de dados, fica fácil a utilização dos dados em ferramentas como Power BI e semelhantes.</div>         \n",
    "</div>"
   ]
  },
  {
   "cell_type": "code",
   "execution_count": null,
   "id": "9daf1a23",
   "metadata": {},
   "outputs": [],
   "source": []
  },
  {
   "cell_type": "code",
   "execution_count": null,
   "id": "5cd826ac",
   "metadata": {},
   "outputs": [],
   "source": []
  },
  {
   "cell_type": "code",
   "execution_count": null,
   "id": "2e7676b4",
   "metadata": {},
   "outputs": [],
   "source": []
  },
  {
   "cell_type": "code",
   "execution_count": null,
   "id": "2ff7238e",
   "metadata": {},
   "outputs": [],
   "source": []
  }
 ],
 "metadata": {
  "kernelspec": {
   "display_name": "Python 3 (ipykernel)",
   "language": "python",
   "name": "python3"
  },
  "language_info": {
   "codemirror_mode": {
    "name": "ipython",
    "version": 3
   },
   "file_extension": ".py",
   "mimetype": "text/x-python",
   "name": "python",
   "nbconvert_exporter": "python",
   "pygments_lexer": "ipython3",
   "version": "3.9.12"
  }
 },
 "nbformat": 4,
 "nbformat_minor": 5
}
